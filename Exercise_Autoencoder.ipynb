{
  "nbformat": 4,
  "nbformat_minor": 0,
  "metadata": {
    "colab": {
      "provenance": [],
      "toc_visible": true,
      "gpuType": "T4"
    },
    "kernelspec": {
      "name": "python3",
      "display_name": "Python 3"
    },
    "accelerator": "GPU"
  },
  "cells": [
    {
      "cell_type": "markdown",
      "metadata": {
        "id": "xPQM73S_UQLk"
      },
      "source": [
        "# Autoencoders\n",
        "Autoencoders are a class of neural network that attempt to recreate the input\n",
        "as their target using back-propagation. An autoencoder consists of two parts; an **encoder** and a **decoder**. The encoder will read the input and compress it to a compact representation, and the decoder will read the compact representation and recreate the input from it. In other words, the autoencoder tries to learn the identity function by minimizing the reconstruction error. They have an inherent capability to learn\n",
        "a compact representation of data. They are at the center of deep belief networks\n",
        "and find applications in image reconstruction, clustering, machine translation,\n",
        "and much more.\n",
        "\n",
        "This exercise aims to test your understanding of autoencoder architecture, and how it can be used to denoise an image. We will build a convolutional autoencoder. Combining your knowledge of a Vanilla/Denoising Autoencoder and Convolutional Networks.\n",
        "\n",
        "The notebook has five Exercises followed by an optional exercise."
      ]
    },
    {
      "cell_type": "code",
      "metadata": {
        "id": "jwqKr35LhRnl"
      },
      "source": [
        "#@title Import Modules\n",
        "\n",
        "import numpy as np\n",
        "import tensorflow as tf\n",
        "import tensorflow.keras as K\n",
        "import matplotlib.pyplot as plt\n",
        "from tensorflow.keras.layers import Dense, Conv2D, MaxPooling2D, UpSampling2D\n",
        "\n",
        "\n",
        "np.random.seed(11)\n",
        "tf.random.set_seed(11)"
      ],
      "execution_count": 2,
      "outputs": []
    },
    {
      "cell_type": "markdown",
      "metadata": {
        "id": "EIgJlvDIM7Zw"
      },
      "source": [
        "## AutoEncoder  Architecture\n",
        "The number of hidden units in the autoencoder is typically less than the number of input (and output) units. This forces the encoder to learn a compressed representation of the input, which the decoder reconstructs. If there is a structure in the input data in the form of correlations between input features, then the autoencoder will discover some of these correlations, and end up learning a low-dimensional representation of the data similar to that learned using principal component analysis (PCA).\n",
        "\n",
        "Once trained\n",
        "* We can discard **decoder** and use **Encoder** to optain a compact representation of input.\n",
        "* We can cascade Encoder to a classifier.\n",
        "\n",
        "The encoder and decoder components of an autoencoder can be implemented using either dense, convolutional, or recurrent networks, depending on the kind of data that is being modeled.\n",
        "\n",
        "Below we define an encoder and a decoder using Convolutional layers. Both consist of three convolutional layers. Each layer in Encoder has a corresponding layer in decoder, thus in this case it is like three autoencoders stacked over each other. This is also called **Stacked Autoencoders**\n",
        "\n",
        "![](https://drive.google.com/uc?id=1UzM67qf1VE_8akrCgiohKjUIHoO_2x4E)\n",
        "\n"
      ]
    },
    {
      "cell_type": "code",
      "metadata": {
        "id": "71xVjHhTE5Z8"
      },
      "source": [
        "#@title Encoder\n",
        "class Encoder(K.layers.Layer):\n",
        "    def __init__(self, filters):\n",
        "        super(Encoder, self).__init__()\n",
        "        self.conv1 = Conv2D(filters=filters[0], kernel_size=3, strides=1, activation='relu', padding='same')\n",
        "        self.conv2 = Conv2D(filters=filters[1], kernel_size=3, strides=1, activation='relu', padding='same')\n",
        "        self.conv3 = Conv2D(filters=filters[2], kernel_size=3, strides=1, activation='relu', padding='same')\n",
        "        self.pool = MaxPooling2D((2, 2), padding='same')\n",
        "\n",
        "\n",
        "    def call(self, input_features):\n",
        "        x = self.conv1(input_features)\n",
        "        #print(\"Ex1\", x.shape)\n",
        "        x = self.pool(x)\n",
        "        #print(\"Ex2\", x.shape)\n",
        "        x = self.conv2(x)\n",
        "        x = self.pool(x)\n",
        "        x = self.conv3(x)\n",
        "        x = self.pool(x)\n",
        "        return x\n"
      ],
      "execution_count": 4,
      "outputs": []
    },
    {
      "cell_type": "code",
      "metadata": {
        "id": "prFVAaj_FM9L"
      },
      "source": [
        "#@title Decoder\n",
        "class Decoder(K.layers.Layer):\n",
        "    def __init__(self, filters):\n",
        "        super(Decoder, self).__init__()\n",
        "        self.conv1 = Conv2D(filters=filters[2], kernel_size=3, strides=1, activation='relu', padding='same')\n",
        "        self.conv2 = Conv2D(filters=filters[1], kernel_size=3, strides=1, activation='relu', padding='same')\n",
        "        self.conv3 = Conv2D(filters=filters[0], kernel_size=3, strides=1, activation='relu', padding='valid')\n",
        "        self.conv4 = Conv2D(1, 3, 1, activation='sigmoid', padding='same')\n",
        "        self.upsample = UpSampling2D((2, 2))\n",
        "\n",
        "    def call(self, encoded):\n",
        "        x = self.conv1(encoded)\n",
        "        #print(\"dx1\", x.shape)\n",
        "        x = self.upsample(x)\n",
        "        #print(\"dx2\", x.shape)\n",
        "        x = self.conv2(x)\n",
        "        x = self.upsample(x)\n",
        "        x = self.conv3(x)\n",
        "        x = self.upsample(x)\n",
        "        return self.conv4(x)"
      ],
      "execution_count": 5,
      "outputs": []
    },
    {
      "cell_type": "markdown",
      "metadata": {
        "id": "5xttby3Lw9pT"
      },
      "source": [
        "## Denoising Autoencoder\n",
        "\n",
        "When we train the autoencoder, we can train it directly on the raw images or we can add noise to the input images while training. When the autoencoder is trained on noisy data, it gets an even interesting property--it can reconstruct noisy images. In other words--you give it an image with noise and it will remove the noise from it."
      ]
    },
    {
      "cell_type": "markdown",
      "metadata": {
        "id": "-Y4h5e6CTvrN"
      },
      "source": [
        "## Exercise 1:\n",
        "In this exercise we will train the stacked autoencoder in four steps:\n",
        "* In [Step 1](#step1) choose the noise = 0\n",
        "* Complete the [Step 2](#step2)\n",
        "* In the [Step 3](#step3) choose filters as [16, 32, 64] for Encoder and [64, 32, 16] for Decoder.\n",
        "* Perform [Step 4](#step4) for batch size of 64 and 10 epochs\n",
        "* Reflect on the plotted images what do you see?"
      ]
    },
    {
      "cell_type": "markdown",
      "metadata": {
        "id": "zIFHypkQ2GnK"
      },
      "source": [
        "**Answer 1** (Double click to edit)*italicized text*"
      ]
    },
    {
      "cell_type": "markdown",
      "metadata": {
        "id": "Qz9itTNs0FBG"
      },
      "source": [
        "<a id='step1'></a>\n",
        "### Step 1:\n",
        "Read the dataset, process it for noise = 0"
      ]
    },
    {
      "cell_type": "code",
      "metadata": {
        "id": "MGQwAOyKEi1I"
      },
      "source": [
        "#@title Dataset Reading and Processing\n",
        "Noise = 0.2 #@param {type:\"slider\", min:0, max:1, step:0.1}\n",
        "(x_train, _), (x_test, _) = K.datasets.mnist.load_data()\n",
        "\n",
        "x_train = x_train / 255.\n",
        "x_test = x_test / 255.\n",
        "\n",
        "x_train = np.reshape(x_train, (len(x_train),28, 28, 1))\n",
        "x_test = np.reshape(x_test, (len(x_test), 28, 28, 1))\n",
        "\n",
        "noise = Noise\n",
        "x_train_noisy = x_train + noise * np.random.normal(loc=0.0, scale=1.0, size=x_train.shape)\n",
        "x_test_noisy = x_test + noise * np.random.normal(loc=0.0, scale=1.0, size=x_test.shape)\n",
        "\n",
        "x_train_noisy = np.clip(x_train_noisy, 0, 1)\n",
        "x_test_noisy = np.clip(x_test_noisy, 0, 1)\n",
        "\n",
        "x_train_noisy = x_train_noisy.astype('float32')\n",
        "x_test_noisy = x_test_noisy.astype('float32')"
      ],
      "execution_count": 9,
      "outputs": []
    },
    {
      "cell_type": "markdown",
      "metadata": {
        "id": "2P8m_M3xFfl-"
      },
      "source": [
        "<a id='another_cell'></a>\n",
        "### Step 2\n",
        "\n",
        "You need to complete the code below. We will be using the Encoder and Decoder architectures that we have defined above to build an autoencoder. In the code below replace `...` with right code."
      ]
    },
    {
      "cell_type": "code",
      "metadata": {
        "id": "TfAUWna6FdNz",
        "colab": {
          "base_uri": "https://localhost:8080/",
          "height": 825
        },
        "outputId": "b104294a-8eb3-4162-f94d-29438aadb80a"
      },
      "source": [
        "class Autoencoder(K.Model):\n",
        "    def __init__(self, filters_encoder, filters_decoder):\n",
        "        super(Autoencoder, self).__init__()\n",
        "        self.loss = []\n",
        "        self.encoder = Encoder(filters_encoder)\n",
        "        self.decoder = Decoder(filters_decoder)\n",
        "\n",
        "    def call(self, input_features):\n",
        "        print(input_features.shape)\n",
        "        encoded = self.encoder(input_features)\n",
        "        print(encoded.shape)\n",
        "        reconstructed = self.decoder(encoded)\n",
        "        print(reconstructed.shape)\n",
        "        return reconstructed\n",
        "\n",
        "\n",
        "#filters_encoder=[16,32,64]\n",
        "#filters_encoder=[16,32,64]\n",
        "filters_encoder=[64,32,16]\n",
        "#filters_decoder=[64,32,16]\n",
        "#filters_decoder=[16,32,64]\n",
        "filters_decoder=[16,32,64]\n",
        "BATCH_SIZE = 256\n",
        "EPOCHS = 10\n",
        "\n",
        "# instantiate model as Autoencoder instance\n",
        "model = Autoencoder(filters_encoder=filters_encoder, filters_decoder=filters_decoder)\n",
        "# compile model by configuring loss and optimiser\n",
        "model.compile(loss='binary_crossentropy', optimizer='adam')\n",
        "# train model on the noisy dataset for a given number of epochs (iterations on the dataset)\n",
        "loss = model.fit(x_train_noisy, # input dataset\n",
        "                x_train, # original dataset (labels)\n",
        "                # validation data\n",
        "                validation_data=(x_test_noisy, x_test),\n",
        "                # number of epochs/iterations\n",
        "                epochs=EPOCHS,\n",
        "                #  number of samples per gradient update\n",
        "                batch_size=BATCH_SIZE)\n",
        "\n",
        "\n",
        "number = 10  # how many digits we will display\n",
        "plt.figure(figsize=(20, 4))\n",
        "for index in range(number):\n",
        "    # display original\n",
        "    ax = plt.subplot(2, number, index + 1)\n",
        "    plt.imshow(x_test[index].reshape(28, 28), cmap='gray')\n",
        "    ax.get_xaxis().set_visible(False)\n",
        "    ax.get_yaxis().set_visible(False)\n",
        "\n",
        "    # display noisy\n",
        "    ax = plt.subplot(2, number, index + 1 + number)\n",
        "    plt.imshow(x_test_noisy[index].reshape(28, 28), cmap='gray')\n",
        "    ax.get_xaxis().set_visible(False)\n",
        "    ax.get_yaxis().set_visible(False)\n",
        "plt.show()"
      ],
      "execution_count": 10,
      "outputs": [
        {
          "output_type": "stream",
          "name": "stdout",
          "text": [
            "Epoch 1/10\n",
            "(None, 28, 28, 1)\n",
            "(None, 4, 4, 16)\n",
            "(None, 28, 28, 1)\n",
            "(None, 28, 28, 1)\n",
            "(None, 4, 4, 16)\n",
            "(None, 28, 28, 1)\n",
            "235/235 [==============================] - ETA: 0s - loss: 0.1997(None, 28, 28, 1)\n",
            "(None, 4, 4, 16)\n",
            "(None, 28, 28, 1)\n",
            "235/235 [==============================] - 7s 14ms/step - loss: 0.1997 - val_loss: 0.1357\n",
            "Epoch 2/10\n",
            "235/235 [==============================] - 3s 12ms/step - loss: 0.1236 - val_loss: 0.1139\n",
            "Epoch 3/10\n",
            "235/235 [==============================] - 3s 11ms/step - loss: 0.1108 - val_loss: 0.1057\n",
            "Epoch 4/10\n",
            "235/235 [==============================] - 3s 12ms/step - loss: 0.1039 - val_loss: 0.1003\n",
            "Epoch 5/10\n",
            "235/235 [==============================] - 3s 14ms/step - loss: 0.0995 - val_loss: 0.0968\n",
            "Epoch 6/10\n",
            "235/235 [==============================] - 3s 15ms/step - loss: 0.0961 - val_loss: 0.0939\n",
            "Epoch 7/10\n",
            "235/235 [==============================] - 3s 12ms/step - loss: 0.0935 - val_loss: 0.0917\n",
            "Epoch 8/10\n",
            "235/235 [==============================] - 3s 13ms/step - loss: 0.0916 - val_loss: 0.0895\n",
            "Epoch 9/10\n",
            "235/235 [==============================] - 3s 12ms/step - loss: 0.0900 - val_loss: 0.0882\n",
            "Epoch 10/10\n",
            "235/235 [==============================] - 3s 11ms/step - loss: 0.0889 - val_loss: 0.0882\n"
          ]
        },
        {
          "output_type": "display_data",
          "data": {
            "text/plain": [
              "<Figure size 2000x400 with 20 Axes>"
            ],
            "image/png": "[encoded data removed]"
          },
          "metadata": {}
        }
      ]
    },
    {
      "cell_type": "markdown",
      "metadata": {
        "id": "4S7xGoIN2ZO_"
      },
      "source": [
        "## Exercise 2:\n",
        "In this exercise we will make only one change, in step 3 choose filters as: `[16, 32, 64]` for both Encoder and Decoder.\n",
        " Try training the Autoencoder. What happens? Why do you think it is so?"
      ]
    },
    {
      "cell_type": "code",
      "source": [
        "Value loss was pretty much the same(0.079 vs 0.08) as the earlier combination of filters. Number of trainable parameters are same in bothe cases."
      ],
      "metadata": {
        "id": "wDyaWdhRMLtw"
      },
      "execution_count": 8,
      "outputs": []
    },
    {
      "cell_type": "markdown",
      "metadata": {
        "id": "fj2d1Qqs7_eK"
      },
      "source": [
        "## Exercise 3:\n",
        "\n",
        "Now we will introduce noise of 0.2 in the training dataset. Train an autoencoder with filters [64,32,16] for encoder and [16,32,64] for decoder and observe the reconstrucred images.\n",
        "\n",
        "\n",
        "What do you find? Is the autoencoder able to recognize noisy digits?\n"
      ]
    },
    {
      "cell_type": "markdown",
      "metadata": {
        "id": "dNvlTwLK877U"
      },
      "source": [
        "**Answer 3** (Double click to edit)\n",
        "Value loss was higher(0.088), Autoencoder was able to identify the digits but with some sparsity(pixelation)."
      ]
    },
    {
      "cell_type": "markdown",
      "metadata": {
        "id": "BiGMz4Kd9AZk"
      },
      "source": [
        "## Exercise 4:\n",
        "\n",
        "Let us be more adventurous with the same Encoder-Decoder architecture, we increase the noise and observe the reconstrucred images.\n",
        "\n",
        "\n",
        "What do you find? Till what noise value is the autoencoder able to reconstruct images? Till what noise level you (human) can recognize the digits in the noisy image.\n"
      ]
    },
    {
      "cell_type": "markdown",
      "metadata": {
        "id": "IL5Aps7f9io1"
      },
      "source": [
        "**Answer 4** (Double click to edit)\n",
        "With increasing Noise level, it became difficult to reconstruct images. Also the time of execution increased.\n",
        "\n",
        "Human- 0.7\n",
        "Autoencoder- 0.6"
      ]
    },
    {
      "cell_type": "markdown",
      "metadata": {
        "id": "pVTaR4St4PvR"
      },
      "source": [
        "<a id='step3'></a>"
      ]
    },
    {
      "cell_type": "markdown",
      "metadata": {
        "id": "BGeWEEixZBhG"
      },
      "source": [
        "### Step 3:\n",
        "\n",
        "We have built Convolutional Autoencoder. That is both Encoder and Decoder are buit using Convolutional layers. Below you need to select"
      ]
    },
    {
      "cell_type": "code",
      "metadata": {
        "id": "QC8Bx7u0n_OP",
        "cellView": "form"
      },
      "source": [
        "#@title Select Filters for Encoder & Decoder\n",
        "filter_encoder_0 = 16 #@param {type:\"slider\", min:8, max:256, step:2}\n",
        "filter_encoder_1 = 32 #@param {type:\"slider\", min:8, max:256, step:2}\n",
        "filter_encoder_2 = 64 #@param {type:\"slider\", min:8, max:256, step:2}\n",
        "\n",
        "filters_en = [filter_encoder_0,filter_encoder_1,filter_encoder_2]\n",
        "\n",
        "\n",
        "filter_decoder_0 = 16 #@param {type:\"slider\", min:8, max:256, step:2}\n",
        "filter_decoder_1 = 32 #@param {type:\"slider\", min:8, max:256, step:2}\n",
        "filter_decoder_2 = 64 #@param {type:\"slider\", min:8, max:256, step:2}\n",
        "\n",
        "filters_de = [filter_decoder_0,filter_decoder_1,filter_decoder_2]\n",
        "\n",
        "\n",
        "model = Autoencoder(filters_en, filters_de)\n",
        "\n",
        "model.compile(loss='binary_crossentropy', optimizer='adam')\n"
      ],
      "execution_count": 12,
      "outputs": []
    },
    {
      "cell_type": "markdown",
      "metadata": {
        "id": "zfpau9KBuCS3"
      },
      "source": [
        "### Step 4:\n",
        "Choose the appropriate batch_size and epochs"
      ]
    },
    {
      "cell_type": "code",
      "metadata": {
        "id": "U7yqEyKqJ595",
        "colab": {
          "base_uri": "https://localhost:8080/"
        },
        "outputId": "3c585e21-1d95-40b7-923f-9fd72473494a"
      },
      "source": [
        "#@title Train the model\n",
        "BATCH_SIZE = 252 #@param {type:\"slider\", min:32, max:2000, step:10}\n",
        "EPOCHS = 50 #@param {type:\"slider\", min:1, max:100, step:1}\n",
        "batch_size = BATCH_SIZE\n",
        "max_epochs = EPOCHS\n",
        "loss = model.fit(x_train_noisy,\n",
        "                x_train,\n",
        "                validation_data=(x_test_noisy, x_test),\n",
        "                epochs=max_epochs,\n",
        "                batch_size=batch_size)\n"
      ],
      "execution_count": 22,
      "outputs": [
        {
          "output_type": "stream",
          "name": "stdout",
          "text": [
            "Epoch 1/50\n",
            "239/239 [==============================] - 3s 11ms/step - loss: 0.0721 - val_loss: 0.0725\n",
            "Epoch 2/50\n",
            "239/239 [==============================] - 3s 12ms/step - loss: 0.0720 - val_loss: 0.0727\n",
            "Epoch 3/50\n",
            "239/239 [==============================] - 2s 9ms/step - loss: 0.0720 - val_loss: 0.0722\n",
            "Epoch 4/50\n",
            "239/239 [==============================] - 2s 9ms/step - loss: 0.0719 - val_loss: 0.0724\n",
            "Epoch 5/50\n",
            "239/239 [==============================] - 2s 10ms/step - loss: 0.0720 - val_loss: 0.0721\n",
            "Epoch 6/50\n",
            "239/239 [==============================] - 2s 10ms/step - loss: 0.0720 - val_loss: 0.0723\n",
            "Epoch 7/50\n",
            "239/239 [==============================] - 3s 11ms/step - loss: 0.0719 - val_loss: 0.0721\n",
            "Epoch 8/50\n",
            "239/239 [==============================] - 2s 9ms/step - loss: 0.0720 - val_loss: 0.0722\n",
            "Epoch 9/50\n",
            "239/239 [==============================] - 2s 10ms/step - loss: 0.0719 - val_loss: 0.0722\n",
            "Epoch 10/50\n",
            "239/239 [==============================] - 2s 9ms/step - loss: 0.0719 - val_loss: 0.0724\n",
            "Epoch 11/50\n",
            "239/239 [==============================] - 2s 9ms/step - loss: 0.0719 - val_loss: 0.0723\n",
            "Epoch 12/50\n",
            "239/239 [==============================] - 3s 11ms/step - loss: 0.0719 - val_loss: 0.0722\n",
            "Epoch 13/50\n",
            "239/239 [==============================] - 2s 9ms/step - loss: 0.0719 - val_loss: 0.0731\n",
            "Epoch 14/50\n",
            "239/239 [==============================] - 2s 10ms/step - loss: 0.0719 - val_loss: 0.0724\n",
            "Epoch 15/50\n",
            "239/239 [==============================] - 2s 10ms/step - loss: 0.0719 - val_loss: 0.0722\n",
            "Epoch 16/50\n",
            "239/239 [==============================] - 2s 10ms/step - loss: 0.0719 - val_loss: 0.0721\n",
            "Epoch 17/50\n",
            "239/239 [==============================] - 3s 10ms/step - loss: 0.0720 - val_loss: 0.0725\n",
            "Epoch 18/50\n",
            "239/239 [==============================] - 2s 10ms/step - loss: 0.0719 - val_loss: 0.0722\n",
            "Epoch 19/50\n",
            "239/239 [==============================] - 2s 10ms/step - loss: 0.0719 - val_loss: 0.0723\n",
            "Epoch 20/50\n",
            "239/239 [==============================] - 2s 10ms/step - loss: 0.0719 - val_loss: 0.0722\n",
            "Epoch 21/50\n",
            "239/239 [==============================] - 2s 9ms/step - loss: 0.0719 - val_loss: 0.0726\n",
            "Epoch 22/50\n",
            "239/239 [==============================] - 2s 10ms/step - loss: 0.0719 - val_loss: 0.0722\n",
            "Epoch 23/50\n",
            "239/239 [==============================] - 2s 10ms/step - loss: 0.0719 - val_loss: 0.0722\n",
            "Epoch 24/50\n",
            "239/239 [==============================] - 2s 9ms/step - loss: 0.0718 - val_loss: 0.0722\n",
            "Epoch 25/50\n",
            "239/239 [==============================] - 2s 9ms/step - loss: 0.0718 - val_loss: 0.0722\n",
            "Epoch 26/50\n",
            "239/239 [==============================] - 2s 10ms/step - loss: 0.0719 - val_loss: 0.0720\n",
            "Epoch 27/50\n",
            "239/239 [==============================] - 2s 9ms/step - loss: 0.0718 - val_loss: 0.0722\n",
            "Epoch 28/50\n",
            "239/239 [==============================] - 2s 10ms/step - loss: 0.0719 - val_loss: 0.0723\n",
            "Epoch 29/50\n",
            "239/239 [==============================] - 2s 10ms/step - loss: 0.0718 - val_loss: 0.0719\n",
            "Epoch 30/50\n",
            "239/239 [==============================] - 2s 10ms/step - loss: 0.0718 - val_loss: 0.0724\n",
            "Epoch 31/50\n",
            "239/239 [==============================] - 2s 10ms/step - loss: 0.0718 - val_loss: 0.0719\n",
            "Epoch 32/50\n",
            "239/239 [==============================] - 2s 10ms/step - loss: 0.0718 - val_loss: 0.0722\n",
            "Epoch 33/50\n",
            "239/239 [==============================] - 3s 11ms/step - loss: 0.0718 - val_loss: 0.0723\n",
            "Epoch 34/50\n",
            "239/239 [==============================] - 2s 9ms/step - loss: 0.0718 - val_loss: 0.0723\n",
            "Epoch 35/50\n",
            "239/239 [==============================] - 2s 10ms/step - loss: 0.0718 - val_loss: 0.0730\n",
            "Epoch 36/50\n",
            "239/239 [==============================] - 2s 10ms/step - loss: 0.0718 - val_loss: 0.0721\n",
            "Epoch 37/50\n",
            "239/239 [==============================] - 2s 9ms/step - loss: 0.0718 - val_loss: 0.0723\n",
            "Epoch 38/50\n",
            "239/239 [==============================] - 3s 11ms/step - loss: 0.0718 - val_loss: 0.0725\n",
            "Epoch 39/50\n",
            "239/239 [==============================] - 2s 9ms/step - loss: 0.0718 - val_loss: 0.0721\n",
            "Epoch 40/50\n",
            "239/239 [==============================] - 2s 10ms/step - loss: 0.0718 - val_loss: 0.0719\n",
            "Epoch 41/50\n",
            "239/239 [==============================] - 2s 9ms/step - loss: 0.0717 - val_loss: 0.0721\n",
            "Epoch 42/50\n",
            "239/239 [==============================] - 2s 9ms/step - loss: 0.0718 - val_loss: 0.0722\n",
            "Epoch 43/50\n",
            "239/239 [==============================] - 3s 11ms/step - loss: 0.0717 - val_loss: 0.0719\n",
            "Epoch 44/50\n",
            "239/239 [==============================] - 3s 11ms/step - loss: 0.0718 - val_loss: 0.0720\n",
            "Epoch 45/50\n",
            "239/239 [==============================] - 2s 9ms/step - loss: 0.0718 - val_loss: 0.0722\n",
            "Epoch 46/50\n",
            "239/239 [==============================] - 2s 10ms/step - loss: 0.0718 - val_loss: 0.0720\n",
            "Epoch 47/50\n",
            "239/239 [==============================] - 2s 10ms/step - loss: 0.0717 - val_loss: 0.0721\n",
            "Epoch 48/50\n",
            "239/239 [==============================] - 2s 10ms/step - loss: 0.0717 - val_loss: 0.0722\n",
            "Epoch 49/50\n",
            "239/239 [==============================] - 3s 11ms/step - loss: 0.0718 - val_loss: 0.0719\n",
            "Epoch 50/50\n",
            "239/239 [==============================] - 2s 9ms/step - loss: 0.0717 - val_loss: 0.0723\n"
          ]
        }
      ]
    },
    {
      "cell_type": "code",
      "metadata": {
        "id": "L817CFR2LgNR",
        "colab": {
          "base_uri": "https://localhost:8080/",
          "height": 842
        },
        "outputId": "ee71eb07-f2d8-4fc4-a2df-e79c7fda0353"
      },
      "source": [
        "#@title Reconstructed images\n",
        "number = 10  # how many digits we will display\n",
        "plt.figure(figsize=(20, 4))\n",
        "for index in range(number):\n",
        "    # display original\n",
        "    ax = plt.subplot(2, number, index + 1)\n",
        "    plt.imshow(x_test_noisy[index].reshape(28, 28), cmap='gray')\n",
        "    ax.get_xaxis().set_visible(False)\n",
        "    ax.get_yaxis().set_visible(False)\n",
        "\n",
        "    # display reconstruction\n",
        "    ax = plt.subplot(2, number, index + 1 + number)\n",
        "    plt.imshow(tf.reshape(model(x_test_noisy)[index], (28, 28)), cmap='gray')\n",
        "    ax.get_xaxis().set_visible(False)\n",
        "    ax.get_yaxis().set_visible(False)\n",
        "plt.show()"
      ],
      "execution_count": 23,
      "outputs": [
        {
          "output_type": "stream",
          "name": "stdout",
          "text": [
            "(10000, 28, 28, 1)\n",
            "(10000, 4, 4, 64)\n",
            "(10000, 28, 28, 1)\n",
            "(10000, 28, 28, 1)\n",
            "(10000, 4, 4, 64)\n",
            "(10000, 28, 28, 1)\n",
            "(10000, 28, 28, 1)\n",
            "(10000, 4, 4, 64)\n",
            "(10000, 28, 28, 1)\n",
            "(10000, 28, 28, 1)\n",
            "(10000, 4, 4, 64)\n",
            "(10000, 28, 28, 1)\n",
            "(10000, 28, 28, 1)\n",
            "(10000, 4, 4, 64)\n",
            "(10000, 28, 28, 1)\n",
            "(10000, 28, 28, 1)\n",
            "(10000, 4, 4, 64)\n",
            "(10000, 28, 28, 1)\n",
            "(10000, 28, 28, 1)\n",
            "(10000, 4, 4, 64)\n",
            "(10000, 28, 28, 1)\n",
            "(10000, 28, 28, 1)\n",
            "(10000, 4, 4, 64)\n",
            "(10000, 28, 28, 1)\n",
            "(10000, 28, 28, 1)\n",
            "(10000, 4, 4, 64)\n",
            "(10000, 28, 28, 1)\n",
            "(10000, 28, 28, 1)\n",
            "(10000, 4, 4, 64)\n",
            "(10000, 28, 28, 1)\n"
          ]
        },
        {
          "output_type": "display_data",
          "data": {
            "text/plain": [
              "<Figure size 2000x400 with 20 Axes>"
            ],
            "image/png": "[encoded data removed]"
          },
          "metadata": {}
        }
      ]
    },
    {
      "cell_type": "markdown",
      "metadata": {
        "id": "zrFJlz5b94dI"
      },
      "source": [
        "## Optional Exercise\n",
        "Construct a Sparse Autoencoder with Dense layer/s, train it on noisy images as before. See how the hidden dimensions influence the reconstruction. Which is one is better for denoising, the convolution Encoder/Decoder or Dense Encoder/Decoder, why?"
      ]
    },
    {
      "cell_type": "code",
      "metadata": {
        "id": "wz6WiM7t-Hjm"
      },
      "source": [],
      "execution_count": null,
      "outputs": []
    }
  ]
}