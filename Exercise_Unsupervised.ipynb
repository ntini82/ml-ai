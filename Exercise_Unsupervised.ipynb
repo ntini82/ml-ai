{
  "cells": [
    {
      "cell_type": "markdown",
      "metadata": {
        "id": "o-xa7l-zzrGG"
      },
      "source": [
        "# Unsupervised Learning\n",
        "\n",
        "In the class we learned two commonly used unsupervised learning algorithms:\n",
        "* Principal Component Analysis\n",
        "* K-Means\n",
        "\n",
        "In this exercise we will use the two to perform clustering for Iris Data set.\n",
        "\n",
        "## Iris Dataset\n",
        "\n",
        "[Iris dataset](https://archive.ics.uci.edu/ml/datasets/iris) is a very popular dataset in machine learning community. Developed by Fisher, it containd 3 classes each with 50 instances. Each of the three class refers to a type of Iris plant. Each data point consists of four different attributes and a class label:\n",
        "\n",
        "1. sepal length in cm\n",
        "2. sepal width in cm\n",
        "3. petal length in cm\n",
        "4. petal width in cm\n",
        "5. class:\n",
        " * Iris Setosa\n",
        " * Iris Versicolour\n",
        " * Iris Virginica\n",
        "\n",
        "\n"
      ]
    },
    {
      "cell_type": "code",
      "execution_count": 1,
      "metadata": {
        "id": "H4fJ8exk1tXe"
      },
      "outputs": [],
      "source": [
        "#@title Import Necessary Modules\n",
        "import tensorflow as tf\n",
        "import numpy as np\n",
        "import matplotlib.pyplot as plt\n",
        "import pandas as pd"
      ]
    },
    {
      "cell_type": "markdown",
      "metadata": {
        "id": "O0fzmRME3ko7"
      },
      "source": [
        "### Exercise 1: Download Data\n",
        "\n",
        "Download the data using `tf.keras.utils.get_file()` function. Pass two arguments to the function the file name and the url containg the data.\n",
        "\n",
        "* For training data use the file name (`fname`) \"iris_training.csv\" and the url is \"https://storage.googleapis.com/download.tensorflow.org/data/iris_training.csv\"\n",
        "\n",
        "* For test data use the file name (`fname`) \"iris_test.csv\" and the url is \"https://storage.googleapis.com/download.tensorflow.org/data/iris_test.csv\"\n",
        "\n",
        "For more information and usage you can refer to [TensorFlow documentation](https://www.tensorflow.org/api_docs/python/tf/keras/utils/get_file).\n",
        "\n"
      ]
    },
    {
      "cell_type": "markdown",
      "source": [],
      "metadata": {
        "id": "z0mCg0mMLcOD"
      }
    },
    {
      "cell_type": "code",
      "execution_count": 3,
      "metadata": {
        "id": "BJhaKhpD3j9b",
        "colab": {
          "base_uri": "https://localhost:8080/"
        },
        "outputId": "579ee9e5-f405-4383-a60a-7fda89adef7a"
      },
      "outputs": [
        {
          "output_type": "stream",
          "name": "stdout",
          "text": [
            "Downloading data from https://storage.googleapis.com/download.tensorflow.org/data/iris_training.csv\n",
            "2194/2194 [==============================] - 0s 0us/step\n",
            "Downloading data from https://storage.googleapis.com/download.tensorflow.org/data/iris_test.csv\n",
            "573/573 [==============================] - 0s 0us/step\n"
          ]
        }
      ],
      "source": [
        "# To Do Complete the code\n",
        "## Replace the ... with right code\n",
        "train_path = tf.keras.utils.get_file('iris_training.csv','https://storage.googleapis.com/download.tensorflow.org/data/iris_training.csv')\n",
        "test_path = tf.keras.utils.get_file('iris_test.csv','https://storage.googleapis.com/download.tensorflow.org/data/iris_test.csv')\n",
        "\n",
        "# ----------------- Do not change anything below ------------------------------------#\n",
        "CSV_COLUMN_NAMES = ['SepalLength', 'SepalWidth', 'PetalLength', 'PetalWidth', 'Species']\n",
        "SPECIES = ['Setosa', 'Versicolor', 'Virginica']\n",
        "\n",
        "train = pd.read_csv(train_path, names=CSV_COLUMN_NAMES, header=0)\n",
        "test = pd.read_csv(test_path, names=CSV_COLUMN_NAMES, header=0)"
      ]
    },
    {
      "cell_type": "markdown",
      "metadata": {
        "id": "Oa4NPihg7l1l"
      },
      "source": [
        "### Exercise 2: Data Analysis and Visualization\n",
        "\n",
        "Analyze the data. Analyzing data is avery important skill. You can start from simple information like size of test and train dataset. To random sample of few to plotting between different features. [Here](https://www.kaggle.com/kstaud85/iris-data-visualization) is an example dataset visualization notebook for Iris Dataset. You can take some ideas from here.\n",
        "\n",
        "As part of the exercise we expect you to perform atleast three analysis/visualizations.\n",
        "You can use as many code cells as you need.\n",
        "\n",
        "Remember `train` and `test` are Pandas DataFrames."
      ]
    },
    {
      "cell_type": "code",
      "execution_count": 20,
      "metadata": {
        "colab": {
          "base_uri": "https://localhost:8080/",
          "height": 343
        },
        "id": "gFrSJrFf9yai",
        "outputId": "9f410281-bedf-486d-c974-cbb6bc15f5da"
      },
      "outputs": [
        {
          "output_type": "stream",
          "name": "stdout",
          "text": [
            "600\n",
            "150\n"
          ]
        },
        {
          "output_type": "display_data",
          "data": {
            "text/plain": [
              "<Figure size 364.361x300 with 1 Axes>"
            ],
            "image/png": "[encoded data removed]"
          },
          "metadata": {}
        }
      ],
      "source": [
        "## To do write code to analyze and visualize the data\n",
        "#  you can add as many code cells as you requre\n",
        "# below for example we show the top 5 samples from training dataset.\n",
        "\n",
        "import seaborn as sns\n",
        "\n",
        "#Sizes of train and test data\n",
        "print(train.size)\n",
        "print(test.size)\n",
        "#train.head(5)\n",
        "\n",
        "# Samples from each species\n",
        "train[\"Species\"].value_counts()\n",
        "\n",
        "sns.FacetGrid(train, hue=\"Species\").map(plt.scatter, \"SepalLength\", \"SepalWidth\").add_legend()\n",
        "plt.show()\n"
      ]
    },
    {
      "cell_type": "code",
      "execution_count": null,
      "metadata": {
        "id": "5yPN6lDe919G"
      },
      "outputs": [],
      "source": []
    },
    {
      "cell_type": "markdown",
      "metadata": {
        "id": "frgCH3glDcR2"
      },
      "source": [
        "### Exercise 3 : Preprocess the data\n",
        "\n",
        "Implement the following steps:\n",
        "\n",
        "1. Drop the label - Species, since we are doing Unsupervised learning we do not need labels.\n",
        "\n",
        " ###### You may want to save labels separately too verify if indeed your model has been able to cluster properly.\n",
        "\n",
        "2. For PCA it is good if the data has zero mean and variance of 1. To achieve this subtract mean and  divide by standard deviation.\n"
      ]
    },
    {
      "cell_type": "code",
      "execution_count": 33,
      "metadata": {
        "id": "jSV3oFsCmPTS",
        "colab": {
          "base_uri": "https://localhost:8080/",
          "height": 206
        },
        "outputId": "e70187dd-6263-47c4-e66a-3a892af950bb"
      },
      "outputs": [
        {
          "output_type": "execute_result",
          "data": {
            "text/plain": [
              "   SepalLength  SepalWidth  PetalLength  PetalWidth\n",
              "0          6.4         2.8          5.6         2.2\n",
              "1          5.0         2.3          3.3         1.0\n",
              "2          4.9         2.5          4.5         1.7\n",
              "3          4.9         3.1          1.5         0.1\n",
              "4          5.7         3.8          1.7         0.3"
            ],
            "text/html": [
              "\n",
              "  <div id=\"df-4e02c388-accf-4801-a497-9cd8199dcebd\" class=\"colab-df-container\">\n",
              "    <div>\n",
              "<style scoped>\n",
              "    .dataframe tbody tr th:only-of-type {\n",
              "        vertical-align: middle;\n",
              "    }\n",
              "\n",
              "    .dataframe tbody tr th {\n",
              "        vertical-align: top;\n",
              "    }\n",
              "\n",
              "    .dataframe thead th {\n",
              "        text-align: right;\n",
              "    }\n",
              "</style>\n",
              "<table border=\"1\" class=\"dataframe\">\n",
              "  <thead>\n",
              "    <tr style=\"text-align: right;\">\n",
              "      <th></th>\n",
              "      <th>SepalLength</th>\n",
              "      <th>SepalWidth</th>\n",
              "      <th>PetalLength</th>\n",
              "      <th>PetalWidth</th>\n",
              "    </tr>\n",
              "  </thead>\n",
              "  <tbody>\n",
              "    <tr>\n",
              "      <th>0</th>\n",
              "      <td>6.4</td>\n",
              "      <td>2.8</td>\n",
              "      <td>5.6</td>\n",
              "      <td>2.2</td>\n",
              "    </tr>\n",
              "    <tr>\n",
              "      <th>1</th>\n",
              "      <td>5.0</td>\n",
              "      <td>2.3</td>\n",
              "      <td>3.3</td>\n",
              "      <td>1.0</td>\n",
              "    </tr>\n",
              "    <tr>\n",
              "      <th>2</th>\n",
              "      <td>4.9</td>\n",
              "      <td>2.5</td>\n",
              "      <td>4.5</td>\n",
              "      <td>1.7</td>\n",
              "    </tr>\n",
              "    <tr>\n",
              "      <th>3</th>\n",
              "      <td>4.9</td>\n",
              "      <td>3.1</td>\n",
              "      <td>1.5</td>\n",
              "      <td>0.1</td>\n",
              "    </tr>\n",
              "    <tr>\n",
              "      <th>4</th>\n",
              "      <td>5.7</td>\n",
              "      <td>3.8</td>\n",
              "      <td>1.7</td>\n",
              "      <td>0.3</td>\n",
              "    </tr>\n",
              "  </tbody>\n",
              "</table>\n",
              "</div>\n",
              "    <div class=\"colab-df-buttons\">\n",
              "\n",
              "  <div class=\"colab-df-container\">\n",
              "    <button class=\"colab-df-convert\" onclick=\"convertToInteractive('df-4e02c388-accf-4801-a497-9cd8199dcebd')\"\n",
              "            title=\"Convert this dataframe to an interactive table.\"\n",
              "            style=\"display:none;\">\n",
              "\n",
              "  <svg xmlns=\"http://www.w3.org/2000/svg\" height=\"24px\" viewBox=\"0 -960 960 960\">\n",
              "    <path d=\"M120-120v-720h720v720H120Zm60-500h600v-160H180v160Zm220 220h160v-160H400v160Zm0 220h160v-160H400v160ZM180-400h160v-160H180v160Zm440 0h160v-160H620v160ZM180-180h160v-160H180v160Zm440 0h160v-160H620v160Z\"/>\n",
              "  </svg>\n",
              "    </button>\n",
              "\n",
              "  <style>\n",
              "    .colab-df-container {\n",
              "      display:flex;\n",
              "      gap: 12px;\n",
              "    }\n",
              "\n",
              "    .colab-df-convert {\n",
              "      background-color: #E8F0FE;\n",
              "      border: none;\n",
              "      border-radius: 50%;\n",
              "      cursor: pointer;\n",
              "      display: none;\n",
              "      fill: #1967D2;\n",
              "      height: 32px;\n",
              "      padding: 0 0 0 0;\n",
              "      width: 32px;\n",
              "    }\n",
              "\n",
              "    .colab-df-convert:hover {\n",
              "      background-color: #E2EBFA;\n",
              "      box-shadow: 0px 1px 2px rgba(60, 64, 67, 0.3), 0px 1px 3px 1px rgba(60, 64, 67, 0.15);\n",
              "      fill: #174EA6;\n",
              "    }\n",
              "\n",
              "    .colab-df-buttons div {\n",
              "      margin-bottom: 4px;\n",
              "    }\n",
              "\n",
              "    [theme=dark] .colab-df-convert {\n",
              "      background-color: #3B4455;\n",
              "      fill: #D2E3FC;\n",
              "    }\n",
              "\n",
              "    [theme=dark] .colab-df-convert:hover {\n",
              "      background-color: #434B5C;\n",
              "      box-shadow: 0px 1px 3px 1px rgba(0, 0, 0, 0.15);\n",
              "      filter: drop-shadow(0px 1px 2px rgba(0, 0, 0, 0.3));\n",
              "      fill: #FFFFFF;\n",
              "    }\n",
              "  </style>\n",
              "\n",
              "    <script>\n",
              "      const buttonEl =\n",
              "        document.querySelector('#df-4e02c388-accf-4801-a497-9cd8199dcebd button.colab-df-convert');\n",
              "      buttonEl.style.display =\n",
              "        google.colab.kernel.accessAllowed ? 'block' : 'none';\n",
              "\n",
              "      async function convertToInteractive(key) {\n",
              "        const element = document.querySelector('#df-4e02c388-accf-4801-a497-9cd8199dcebd');\n",
              "        const dataTable =\n",
              "          await google.colab.kernel.invokeFunction('convertToInteractive',\n",
              "                                                    [key], {});\n",
              "        if (!dataTable) return;\n",
              "\n",
              "        const docLinkHtml = 'Like what you see? Visit the ' +\n",
              "          '<a target=\"_blank\" href=https://colab.research.google.com/notebooks/data_table.ipynb>data table notebook</a>'\n",
              "          + ' to learn more about interactive tables.';\n",
              "        element.innerHTML = '';\n",
              "        dataTable['output_type'] = 'display_data';\n",
              "        await google.colab.output.renderOutput(dataTable, element);\n",
              "        const docLink = document.createElement('div');\n",
              "        docLink.innerHTML = docLinkHtml;\n",
              "        element.appendChild(docLink);\n",
              "      }\n",
              "    </script>\n",
              "  </div>\n",
              "\n",
              "\n",
              "<div id=\"df-41acad09-6201-4d9f-b74b-90c353a12c14\">\n",
              "  <button class=\"colab-df-quickchart\" onclick=\"quickchart('df-41acad09-6201-4d9f-b74b-90c353a12c14')\"\n",
              "            title=\"Suggest charts.\"\n",
              "            style=\"display:none;\">\n",
              "\n",
              "<svg xmlns=\"http://www.w3.org/2000/svg\" height=\"24px\"viewBox=\"0 0 24 24\"\n",
              "     width=\"24px\">\n",
              "    <g>\n",
              "        <path d=\"M19 3H5c-1.1 0-2 .9-2 2v14c0 1.1.9 2 2 2h14c1.1 0 2-.9 2-2V5c0-1.1-.9-2-2-2zM9 17H7v-7h2v7zm4 0h-2V7h2v10zm4 0h-2v-4h2v4z\"/>\n",
              "    </g>\n",
              "</svg>\n",
              "  </button>\n",
              "\n",
              "<style>\n",
              "  .colab-df-quickchart {\n",
              "    background-color: #E8F0FE;\n",
              "    border: none;\n",
              "    border-radius: 50%;\n",
              "    cursor: pointer;\n",
              "    display: none;\n",
              "    fill: #1967D2;\n",
              "    height: 32px;\n",
              "    padding: 0 0 0 0;\n",
              "    width: 32px;\n",
              "  }\n",
              "\n",
              "  .colab-df-quickchart:hover {\n",
              "    background-color: #E2EBFA;\n",
              "    box-shadow: 0px 1px 2px rgba(60, 64, 67, 0.3), 0px 1px 3px 1px rgba(60, 64, 67, 0.15);\n",
              "    fill: #174EA6;\n",
              "  }\n",
              "\n",
              "  [theme=dark] .colab-df-quickchart {\n",
              "    background-color: #3B4455;\n",
              "    fill: #D2E3FC;\n",
              "  }\n",
              "\n",
              "  [theme=dark] .colab-df-quickchart:hover {\n",
              "    background-color: #434B5C;\n",
              "    box-shadow: 0px 1px 3px 1px rgba(0, 0, 0, 0.15);\n",
              "    filter: drop-shadow(0px 1px 2px rgba(0, 0, 0, 0.3));\n",
              "    fill: #FFFFFF;\n",
              "  }\n",
              "</style>\n",
              "\n",
              "  <script>\n",
              "    async function quickchart(key) {\n",
              "      const charts = await google.colab.kernel.invokeFunction(\n",
              "          'suggestCharts', [key], {});\n",
              "    }\n",
              "    (() => {\n",
              "      let quickchartButtonEl =\n",
              "        document.querySelector('#df-41acad09-6201-4d9f-b74b-90c353a12c14 button');\n",
              "      quickchartButtonEl.style.display =\n",
              "        google.colab.kernel.accessAllowed ? 'block' : 'none';\n",
              "    })();\n",
              "  </script>\n",
              "</div>\n",
              "    </div>\n",
              "  </div>\n"
            ]
          },
          "metadata": {},
          "execution_count": 33
        }
      ],
      "source": [
        "## Drop the labels\n",
        "\n",
        "train_df=train.drop(columns=['Species'])\n",
        "test_df=test.drop(columns=['Species'])\n",
        "train_df.head(5)\n"
      ]
    },
    {
      "cell_type": "code",
      "execution_count": 35,
      "metadata": {
        "id": "NjIfZPVhnYME",
        "colab": {
          "base_uri": "https://localhost:8080/"
        },
        "outputId": "2b3a682f-9e92-4399-a2a3-52b5410b20fb"
      },
      "outputs": [
        {
          "output_type": "stream",
          "name": "stdout",
          "text": [
            "   SepalLength  SepalWidth  PetalLength  PetalWidth\n",
            "0     0.638975   -0.620382     1.021257    1.282971\n",
            "1    -0.972854   -1.790915    -0.241022   -0.251479\n",
            "2    -1.087985   -1.322702     0.417558    0.643616\n",
            "3    -1.087985    0.081937    -1.228893   -1.402317\n",
            "4    -0.166939    1.720683    -1.119130   -1.146575\n"
          ]
        }
      ],
      "source": [
        "# Subtract mean from individual value and divide by standard deviation\n",
        "\n",
        "normalized_train=...\n",
        "normalized_test=...\n",
        "\n",
        "normalized_train = (train_df - train_df.mean()) / train_df.std()\n",
        "normalized_test= (test_df - test_df.mean()) / test_df.std()\n",
        "\n",
        "# Print the normalized DataFrame\n",
        "print(normalized_train.head())"
      ]
    },
    {
      "cell_type": "markdown",
      "metadata": {
        "id": "ovefUIbeq5EO"
      },
      "source": [
        "### Exercise 4:\n",
        "Compute the SUV matrices using TensorFlow `linalg()` function. Once you get SUV matrices convert S matrix to diagonal matrix  using `tf.linalg.diag()`"
      ]
    },
    {
      "cell_type": "code",
      "execution_count": 36,
      "metadata": {
        "id": "3f8CjnAQoz1u"
      },
      "outputs": [],
      "source": [
        "# Compute the SUV matrces\n",
        "s, u, v = tf.linalg.svd(normalized_train)"
      ]
    },
    {
      "cell_type": "code",
      "execution_count": 37,
      "metadata": {
        "id": "sMvL2wa0qt9Z",
        "colab": {
          "base_uri": "https://localhost:8080/"
        },
        "outputId": "c9d75e64-8082-4c07-d818-64f42f65a8f5"
      },
      "outputs": [
        {
          "output_type": "stream",
          "name": "stdout",
          "text": [
            "tf.Tensor(\n",
            "[[18.53995265  0.          0.          0.        ]\n",
            " [ 0.         10.62388246  0.          0.        ]\n",
            " [ 0.          0.          4.11726273  0.        ]\n",
            " [ 0.          0.          0.          1.56570271]], shape=(4, 4), dtype=float64)\n"
          ]
        }
      ],
      "source": [
        "s = tf.linalg.diag(s)\n",
        "\n",
        "# Print the diagonal matrix\n",
        "print(s)"
      ]
    },
    {
      "cell_type": "markdown",
      "metadata": {
        "id": "hPv9Iidls0gl"
      },
      "source": [
        "### Exercise 5:\n",
        "\n",
        "Now compute the PCA for 2 principal components. See how the shape gets modified from original dataset and PCA dataset."
      ]
    },
    {
      "cell_type": "code",
      "execution_count": 39,
      "metadata": {
        "id": "9hP63SnRs0_w"
      },
      "outputs": [],
      "source": [
        "k = 2\n",
        "\n",
        "# We will identify the 2 principal components based on eigen values\n",
        "# Compute the covariance matrix\n",
        "cov_matrix = tf.linalg.matmul(normalized_train, normalized_train, transpose_a=True) / normalized_train.shape[0]\n",
        "\n",
        "# Compute the eigenvalues and eigenvectors of the covariance matrix\n",
        "eigenvalues, eigenvectors = tf.linalg.eigh(cov_matrix)\n",
        "\n",
        "# Get the indices of the top k eigenvalues\n",
        "top_indices = tf.argsort(eigenvalues, direction='DESCENDING')[:k]\n",
        "\n",
        "# Select the top k eigenvectors\n",
        "top_eigenvectors = tf.gather(eigenvectors, top_indices, axis=1)\n",
        "\n",
        "# Transform the data to the reduced dimensions\n",
        "pca = tf.matmul(normalized_train, top_eigenvectors)\n"
      ]
    },
    {
      "cell_type": "code",
      "execution_count": 40,
      "metadata": {
        "colab": {
          "base_uri": "https://localhost:8080/"
        },
        "id": "uE28oLvis47a",
        "outputId": "b59c4353-6019-4210-fb76-00613b8edbb0"
      },
      "outputs": [
        {
          "output_type": "stream",
          "name": "stdout",
          "text": [
            "original data shape (120, 5)\n",
            "reduced data shape (120, 2)\n"
          ]
        }
      ],
      "source": [
        "print('original data shape',train.shape)\n",
        "print('reduced data shape', pca.shape)"
      ]
    },
    {
      "cell_type": "markdown",
      "metadata": {
        "id": "s4FNrqrj7ibT"
      },
      "source": [
        "### Exercise 6:\n",
        "Let us plot and see if our PCA is able to cluster the dataset."
      ]
    },
    {
      "cell_type": "code",
      "execution_count": 44,
      "metadata": {
        "id": "DpjssUpZs8cy",
        "colab": {
          "base_uri": "https://localhost:8080/",
          "height": 641
        },
        "outputId": "efdfa6b2-e134-4254-cc7e-e3da74212e94"
      },
      "outputs": [
        {
          "output_type": "display_data",
          "data": {
            "text/plain": [
              "<Figure size 1000x700 with 2 Axes>"
            ],
            "image/png": "[encoded data removed]"
          },
          "metadata": {}
        }
      ],
      "source": [
        "\n",
        "# Convert PCA result to a numpy array\n",
        "pca_array = pca.numpy()\n",
        "\n",
        "# Scatter plot\n",
        "plt.figure(figsize=(10, 7))\n",
        "plt.scatter(pca_array[:, 0], pca_array[:, 1])\n",
        "plt.xlabel('Principal Component 1')\n",
        "plt.ylabel('Principal Component 2')\n",
        "plt.title('PCA Clustering of Iris Dataset')\n",
        "plt.colorbar(label='Species')\n",
        "plt.show()"
      ]
    },
    {
      "cell_type": "markdown",
      "metadata": {
        "id": "RB--LQXs71LC"
      },
      "source": [
        "## Optional Exercise\n",
        "\n",
        "Repeating the clustering process this time using the K-means algorithm on the Iris dataset. Reflect on the result."
      ]
    },
    {
      "cell_type": "code",
      "execution_count": null,
      "metadata": {
        "id": "XvZdPc5U7Ivf"
      },
      "outputs": [],
      "source": []
    }
  ],
  "metadata": {
    "colab": {
      "provenance": []
    },
    "kernelspec": {
      "display_name": "Python 3",
      "name": "python3"
    }
  },
  "nbformat": 4,
  "nbformat_minor": 0
}